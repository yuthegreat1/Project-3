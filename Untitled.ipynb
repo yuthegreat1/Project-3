{
 "cells": [
  {
   "cell_type": "code",
   "execution_count": 2,
   "id": "977ab565",
   "metadata": {},
   "outputs": [],
   "source": [
    "import numpy as np\n",
    "\n",
    "import sqlalchemy\n",
    "from sqlalchemy.ext.automap import automap_base\n",
    "from sqlalchemy.orm import Session\n",
    "from sqlalchemy import create_engine, func\n",
    "\n",
    "# from flask import Flask, jsonify\n",
    "# from flask_cors import CORS"
   ]
  },
  {
   "cell_type": "code",
   "execution_count": 4,
   "id": "61a3bb5f",
   "metadata": {},
   "outputs": [
    {
     "name": "stdout",
     "output_type": "stream",
     "text": [
      "['Receiving2', 'receiving']\n"
     ]
    }
   ],
   "source": [
    "#################################################\n",
    "# Database Setup\n",
    "#################################################\n",
    "engine = create_engine(\"sqlite:///nfl.sqlite\")\n",
    "\n",
    "# reflect an existing database into a new model\n",
    "Base = automap_base()\n",
    "# reflect the tables\n",
    "Base.prepare(engine, reflect=True)\n",
    "print(Base.classes.keys())\n",
    "# Save reference to the table\n",
    "# Receiving = Base.classes.receiving4\n",
    "\n",
    "# #################################################\n",
    "# # Flask Setup\n",
    "# #################################################\n",
    "# app = Flask(__name__)\n",
    "# CORS(app)"
   ]
  },
  {
   "cell_type": "code",
   "execution_count": null,
   "id": "cca46d6d",
   "metadata": {},
   "outputs": [],
   "source": [
    "@app.route(\"/\")\n",
    "def welcome():\n",
    "    \"\"\"List all available api routes.\"\"\"\n",
    "    return (\n",
    "        f\"Available Routes:<br/>\"\n",
    "        f\"/api/v1.0/all<br/>\"\n",
    "        f\"/api/v1.0/searchbyname/<name><br/>\"\n",
    "        f\"/api/v1.0/searchbyteam/<team><br/>\"\n",
    "    )\n",
    "\n",
    "\n",
    "@app.route(\"/api/v1.0/all\")\n",
    "def names():\n",
    "    session = Session(engine)\n",
    "    results = session.query(Receiving).all()\n",
    "    output = [{\"Name\": x.name, \"Position\": x.position, \"Targets\": x.targets, \"Receptions\": x.receptions, \"Yards\": x.yards, \"Catch Percentage\": x.catchpct,  \"Touchdowns\": x.touchdowns, \"Team\": x.teams, \"Age\": x.age} for x in results]\n",
    "    session.close()\n",
    "    return jsonify(output)\n",
    "\n",
    "\n",
    "@app.route(\"/api/v1.0/searchbyname/<name>\")\n",
    "def search_by_name(name):\n",
    "    session = Session(engine)\n",
    "    print(name)\n",
    "    results = session.query(Receiving).filter(Receiving.name==name).all()\n",
    "    output = [{\"Name\": x.name, \"Position\": x.position, \"Targets\": x.targets, \"Receptions\": x.receptions, \"Yards\": x.yards, \"Catch Percentage\": x.catchpct,  \"Touchdowns\": x.touchdowns, \"Team\": x.teams, \"Age\": x.age} for x in results]\n",
    "    session.close()\n",
    "    return jsonify(output)\n",
    "\n",
    "@app.route(\"/api/v1.0/searchbyteam/<team>\")\n",
    "def search_by_team(team):\n",
    "    session = Session(engine)\n",
    "    results = session.query(Receiving).filter(Receiving.team==team).all()\n",
    "    output = [{\"Name\": x.name, \"Position\": x.position, \"Targets\": x.targets, \"Receptions\": x.receptions, \"Yards\": x.yards, \"Catch Percentage\": x.catchpct,  \"Touchdowns\": x.touchdowns, \"Team\": x.teams, \"Age\": x.age} for x in results]\n",
    "    session.close()\n",
    "    return jsonify(output)\n",
    "\n",
    "if __name__ == '__main__':\n",
    "    app.run(debug=True)"
   ]
  }
 ],
 "metadata": {
  "kernelspec": {
   "display_name": "PythonData",
   "language": "python",
   "name": "pythondata"
  },
  "language_info": {
   "codemirror_mode": {
    "name": "ipython",
    "version": 3
   },
   "file_extension": ".py",
   "mimetype": "text/x-python",
   "name": "python",
   "nbconvert_exporter": "python",
   "pygments_lexer": "ipython3",
   "version": "3.7.7"
  }
 },
 "nbformat": 4,
 "nbformat_minor": 5
}
